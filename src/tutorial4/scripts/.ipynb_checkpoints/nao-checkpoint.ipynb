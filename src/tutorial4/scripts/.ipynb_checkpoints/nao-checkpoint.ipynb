{
 "cells": [
  {
   "cell_type": "code",
   "execution_count": 37,
   "metadata": {},
   "outputs": [
    {
     "name": "stdout",
     "output_type": "stream",
     "text": [
      "(150, 2)\n",
      "(7, 2)\n",
      "(150, 2)\n",
      "(7, 2)\n",
      "[-0.49958614  0.00870003]\n"
     ]
    }
   ],
   "source": [
    "import numpy as np\n",
    "import matplotlib.pyplot as plt\n",
    "\n",
    "input_size = 2\n",
    "output_size = 2\n",
    "data_path = \"\"\n",
    "Data = np.loadtxt(\"data2.txt\",delimiter=\",\")\n",
    "X_data = Data[:,1:3]\n",
    "Y_data = Data[:,3:]\n",
    "N = X_data.shape[0]\n",
    "val_portion = 0.1;\n",
    "X_train = X_data[:300,:]\n",
    "X_test = X_data[300:,:]\n",
    "Y_train = Y_data[:300,:]\n",
    "Y_test = Y_data[300:,:]\n",
    "print(X_train.shape)\n",
    "print(X_test.shape)\n",
    "print(Y_train.shape)\n",
    "print(Y_test.shape)\n",
    "print(Y_train[46,:])"
   ]
  },
  {
   "cell_type": "code",
   "execution_count": 38,
   "metadata": {},
   "outputs": [],
   "source": [
    "fac_x = 0.99 / 320\n",
    "fac_y = 0.99 / 240\n",
    "train_X = np.zeros((X_train.shape))\n",
    "train_Y = np.zeros(Y_train.shape)\n",
    "test_X = np.zeros((X_test.shape))\n",
    "test_Y = np.zeros(Y_test.shape)\n",
    "\n",
    "train_X[:,0] = np.asfarray(X_train[:, 0]) * fac_x + 0.01\n",
    "train_X[:,1] = np.asfarray(X_train[:, 1]) * fac_y + 0.01\n",
    "test_X[:,0] = np.asfarray(X_test[:, 0]) * fac_x + 0.01\n",
    "test_X[:,1] = np.asfarray(X_test[:, 1]) * fac_y + 0.01\n",
    "\n",
    "train_Y[:,0] = ((np.asfarray(Y_train[:,0]) - (-0.7))/0.7)*1\n",
    "train_Y[:,1] = ((np.asfarray(Y_train[:,1]) - (-0.3))/1)*1\n",
    "test_Y[:,0] = (np.asfarray(Y_test[:,0]) - (-0.7))/0.7\n",
    "test_Y[:,1] = (np.asfarray(Y_test[:,1]) - (-0.3))/1\n",
    "\n",
    "#print train_X"
   ]
  },
  {
   "cell_type": "code",
   "execution_count": 39,
   "metadata": {},
   "outputs": [
    {
     "data": {
      "text/plain": [
       "[[51.0, 51.0], [52.0, 52.0], [50.0, 50.0]]"
      ]
     },
     "execution_count": 39,
     "metadata": {},
     "output_type": "execute_result"
    }
   ],
   "source": [
    "import numpy as np\n",
    "\n",
    "resolution = 50\n",
    "field_size = 3.0\n",
    "inputs = [1,1]\n",
    "RFpos = [[0,0],[1,1],[2,2]]\n",
    "\n",
    "def active_neuro_pos(inputs):\n",
    "    Position = []\n",
    "    for r in range(len(RFpos)):\n",
    "        Coord = []\n",
    "        for c in range(len(inputs)):\n",
    "            input_index = round(inputs[c]*resolution)\n",
    "            shift_amount = field_size - input_index%field_size\n",
    "            local_coord = (shift_amount+RFpos[r][c])%field_size\n",
    "            coord = input_index+local_coord\n",
    "            Coord.append(coord) \n",
    "        Position.append(Coord)\n",
    "    return Position\n",
    "        \n",
    "active_neuro_pos(inputs)  \n",
    "    "
   ]
  },
  {
   "cell_type": "code",
   "execution_count": 40,
   "metadata": {},
   "outputs": [
    {
     "name": "stdout",
     "output_type": "stream",
     "text": [
      "0.06\n",
      "972\n"
     ]
    },
    {
     "data": {
      "text/plain": [
       "[798, 742, 743]"
      ]
     },
     "execution_count": 40,
     "metadata": {},
     "output_type": "execute_result"
    }
   ],
   "source": [
    "# get all the position of L2, map to identical index\n",
    "pos2idx = {}\n",
    "c=0\n",
    "scale = field_size/resolution\n",
    "print scale\n",
    "for i in np.arange(0,1+scale,scale):\n",
    "    for j in np.arange(0,1+scale,scale):\n",
    "        inputs = [i,j]\n",
    "        pos = active_neuro_pos(inputs)\n",
    "        for p in pos:\n",
    "            pos2idx[str(p[0])+\",\"+str(p[1])]=c\n",
    "            c=c+1\n",
    "\n",
    "l2_size = len(pos2idx)\n",
    "print l2_size\n",
    "\n",
    "def get_index(inputs):\n",
    "    pos = active_neuro_pos(inputs)\n",
    "    index = []\n",
    "    for p in pos:\n",
    "        i = pos2idx[str(p[0])+\",\"+str(p[1])]\n",
    "        index.append(i)\n",
    "    return index\n",
    "\n",
    "get_index([0.8,0.8])"
   ]
  },
  {
   "cell_type": "code",
   "execution_count": 41,
   "metadata": {},
   "outputs": [],
   "source": [
    "weights = np.zeros((l2_size,2))\n",
    "neurons = np.zeros((l2_size,1))\n",
    "\n",
    "def forward(index):\n",
    "    #index = get_index(inputs)\n",
    "    x0=0\n",
    "    x1=0\n",
    "    for i in index:\n",
    "        neurons[i]=1\n",
    "        x0+=neurons[i]*weights[i][0]\n",
    "        x1+=neurons[i]*weights[i][1]\n",
    "    pred = np.zeros((1,2))    \n",
    "    pred[0][0]=x0\n",
    "    pred[0][1]=x1\n",
    "    #print pred\n",
    "    return pred\n",
    "\n",
    "def backward(index, target, pred, learning_rate):\n",
    "    loss = target-pred\n",
    "    #print target, pred, loss\n",
    "    for i in index:\n",
    "        for j in range(0,2):\n",
    "            #print weights[i][j], neurons[i], loss[j]\n",
    "            weights[i][j] = weights[i][j]+(learning_rate*neurons[i]*loss[0][j])/field_size\n",
    "\n",
    "# individual MSE          \n",
    "def error(target,pred):\n",
    "    #print target, pred\n",
    "    s = (target[0]-pred[0])**2+(target[1]-pred[1])**2\n",
    "    return s\n",
    "    "
   ]
  },
  {
   "cell_type": "code",
   "execution_count": 42,
   "metadata": {},
   "outputs": [],
   "source": [
    "def train(train_x, train_y, learning_rate, epoch, value_compare):\n",
    "    for e in range(epoch):\n",
    "        for i in range(len(train_x)):\n",
    "            index = get_index(train_x[i])\n",
    "            pred = forward(index)\n",
    "            backward(index, train_y[i], pred, learning_rate)\n",
    "        # calculate MSE \n",
    "        errors = 0.0\n",
    "        for i in range(len(train_x)):\n",
    "            index = get_index(train_x[i])\n",
    "            pred = forward(index)\n",
    "            errors += error(train_y[i],pred[0])\n",
    "        errors/=len(train_x)\n",
    "        Error.append(errors)\n",
    "        print \"epoch : \"+str(e)+\" MSE : \"+str(errors)\n",
    "    if value_compare:   \n",
    "        for i in range(len(train_x)):\n",
    "            index = get_index(train_x[i])\n",
    "            pred = forward(index)\n",
    "            print \"value compare: \"+str(train_y[i][0])+','+str(pred[0][0])+' '+str(train_y[i][1])+','+str(pred[0][1])  \n",
    "        \n",
    "    "
   ]
  },
  {
   "cell_type": "code",
   "execution_count": 46,
   "metadata": {},
   "outputs": [
    {
     "name": "stdout",
     "output_type": "stream",
     "text": [
      "epoch : 0 MSE : 0.35802520688467593\n",
      "epoch : 1 MSE : 0.2319727681749489\n",
      "epoch : 2 MSE : 0.15621018015690508\n",
      "epoch : 3 MSE : 0.10885568074387462\n",
      "epoch : 4 MSE : 0.07813428706526557\n",
      "epoch : 5 MSE : 0.057513743013210286\n",
      "epoch : 6 MSE : 0.04325032781427929\n",
      "epoch : 7 MSE : 0.03312483250540293\n",
      "epoch : 8 MSE : 0.025776526381085275\n",
      "epoch : 9 MSE : 0.020343339089267696\n",
      "epoch : 10 MSE : 0.01626216140680439\n",
      "epoch : 11 MSE : 0.013154807164492542\n",
      "epoch : 12 MSE : 0.010760948281227006\n",
      "epoch : 13 MSE : 0.008897492563942353\n",
      "epoch : 14 MSE : 0.0074332589197209364\n",
      "epoch : 15 MSE : 0.006272751129645066\n",
      "epoch : 16 MSE : 0.005345493982496959\n",
      "epoch : 17 MSE : 0.0045988613994763375\n",
      "epoch : 18 MSE : 0.003993152414126447\n",
      "epoch : 19 MSE : 0.003498148064406814\n",
      "epoch : 20 MSE : 0.00309066472668723\n",
      "epoch : 21 MSE : 0.00275279075558485\n",
      "epoch : 22 MSE : 0.00247059970120098\n",
      "epoch : 23 MSE : 0.0022332009618389833\n",
      "epoch : 24 MSE : 0.0020320325706260313\n",
      "epoch : 25 MSE : 0.0018603298085871156\n",
      "epoch : 26 MSE : 0.0017127228550858561\n",
      "epoch : 27 MSE : 0.001584930039232119\n",
      "epoch : 28 MSE : 0.001473522524699473\n",
      "epoch : 29 MSE : 0.0013757427798858615\n",
      "epoch : 30 MSE : 0.0012893638261851606\n",
      "epoch : 31 MSE : 0.0012125795967561225\n",
      "epoch : 32 MSE : 0.0011439191653195766\n",
      "epoch : 33 MSE : 0.0010821793845119947\n",
      "epoch : 34 MSE : 0.0010263717895658388\n",
      "epoch : 35 MSE : 0.0009756806038108695\n",
      "epoch : 36 MSE : 0.0009294294183285963\n",
      "epoch : 37 MSE : 0.0008870546737362421\n",
      "epoch : 38 MSE : 0.0008480844941286246\n",
      "epoch : 39 MSE : 0.0008121217455241385\n",
      "epoch : 40 MSE : 0.0007788304385399388\n",
      "epoch : 41 MSE : 0.0007479247857555273\n",
      "epoch : 42 MSE : 0.0007191603719043163\n",
      "epoch : 43 MSE : 0.0006923270098220461\n",
      "epoch : 44 MSE : 0.000667242944624082\n",
      "epoch : 45 MSE : 0.0006437501386641054\n",
      "epoch : 46 MSE : 0.000621710424842449\n",
      "epoch : 47 MSE : 0.00060100235914413\n",
      "epoch : 48 MSE : 0.0005815186374741671\n",
      "epoch : 49 MSE : 0.0005631639689095258\n",
      "[[0. 0.]\n",
      " [0. 0.]\n",
      " [0. 0.]\n",
      " ...\n",
      " [0. 0.]\n",
      " [0. 0.]\n",
      " [0. 0.]] 241.0\n"
     ]
    }
   ],
   "source": [
    "weights = np.zeros((l2_size,2))\n",
    "neurons = np.zeros((l2_size,1))\n",
    "epochs = 50\n",
    "Error = []\n",
    "train(train_X, train_Y, 0.1, epochs, False)\n",
    "print weights,np.sum(neurons)"
   ]
  },
  {
   "cell_type": "code",
   "execution_count": 44,
   "metadata": {},
   "outputs": [],
   "source": [
    "model =  [pos2idx, weights, neurons]\n",
    "import pickle\n",
    "\n",
    "with open('model.pkl', 'w') as f:  \n",
    "    pickle.dump(model, f)\n"
   ]
  },
  {
   "cell_type": "code",
   "execution_count": 45,
   "metadata": {},
   "outputs": [
    {
     "data": {
      "image/png": "[encoded data removed]",
      "text/plain": [
       "<Figure size 432x288 with 1 Axes>"
      ]
     },
     "metadata": {
      "needs_background": "light"
     },
     "output_type": "display_data"
    }
   ],
   "source": [
    "x = range(epochs)\n",
    "y = Error\n",
    "plt.plot(x,y)\n",
    "plt.xlabel('epochs')\n",
    "plt.ylabel('MSE')\n",
    "plt.title('field_size=5, training sample=150')\n",
    "plt.show()\n"
   ]
  },
  {
   "cell_type": "code",
   "execution_count": null,
   "metadata": {},
   "outputs": [],
   "source": []
  }
 ],
 "metadata": {
  "kernelspec": {
   "display_name": "Python 2",
   "language": "python",
   "name": "python2"
  },
  "language_info": {
   "codemirror_mode": {
    "name": "ipython",
    "version": 2
   },
   "file_extension": ".py",
   "mimetype": "text/x-python",
   "name": "python",
   "nbconvert_exporter": "python",
   "pygments_lexer": "ipython2",
   "version": "2.7.16"
  }
 },
 "nbformat": 4,
 "nbformat_minor": 4
}
