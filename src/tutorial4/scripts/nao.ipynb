{
 "cells": [
  {
   "cell_type": "code",
   "execution_count": 20,
   "metadata": {},
   "outputs": [
    {
     "name": "stdout",
     "output_type": "stream",
     "text": [
      "(600, 2)\n",
      "(11, 2)\n",
      "(600, 2)\n",
      "(11, 2)\n",
      "[-0.37800676  0.37011608]\n"
     ]
    }
   ],
   "source": [
    "import numpy as np\n",
    "import matplotlib.pyplot as plt\n",
    "\n",
    "input_size = 2\n",
    "output_size = 2\n",
    "data_path = \"\"\n",
    "Data = np.loadtxt(\"data001.txt\",delimiter=\",\")\n",
    "X_data = Data[:,1:3]\n",
    "Y_data = Data[:,3:]\n",
    "N = X_data.shape[0]\n",
    "val_portion = 0.1;\n",
    "X_train = X_data[:600,:]\n",
    "X_test = X_data[600:,:]\n",
    "Y_train = Y_data[:600,:]\n",
    "Y_test = Y_data[600:,:]\n",
    "print(X_train.shape)\n",
    "print(X_test.shape)\n",
    "print(Y_train.shape)\n",
    "print(Y_test.shape)\n",
    "print(Y_train[46,:])"
   ]
  },
  {
   "cell_type": "code",
   "execution_count": 21,
   "metadata": {},
   "outputs": [],
   "source": [
    "fac_x = 0.99 / 320\n",
    "fac_y = 0.99 / 240\n",
    "train_X = np.zeros((X_train.shape))\n",
    "train_Y = np.zeros(Y_train.shape)\n",
    "test_X = np.zeros((X_test.shape))\n",
    "test_Y = np.zeros(Y_test.shape)\n",
    "\n",
    "train_X[:,0] = np.asfarray(X_train[:, 0]) * fac_x + 0.01\n",
    "train_X[:,1] = np.asfarray(X_train[:, 1]) * fac_y + 0.01\n",
    "test_X[:,0] = np.asfarray(X_test[:, 0]) * fac_x + 0.01\n",
    "test_X[:,1] = np.asfarray(X_test[:, 1]) * fac_y + 0.01\n",
    "\n",
    "train_Y[:,0] = ((np.asfarray(Y_train[:,0]) - (-0.7))/0.7)*1\n",
    "train_Y[:,1] = ((np.asfarray(Y_train[:,1]) - (-0.3))/1)*1\n",
    "test_Y[:,0] = (np.asfarray(Y_test[:,0]) - (-0.7))/0.7\n",
    "test_Y[:,1] = (np.asfarray(Y_test[:,1]) - (-0.3))/1\n",
    "\n",
    "#print train_X"
   ]
  },
  {
   "cell_type": "code",
   "execution_count": 22,
   "metadata": {},
   "outputs": [
    {
     "data": {
      "text/plain": [
       "[[50.0, 50.0], [51.0, 51.0], [52.0, 52.0], [53.0, 53.0], [54.0, 54.0]]"
      ]
     },
     "execution_count": 22,
     "metadata": {},
     "output_type": "execute_result"
    }
   ],
   "source": [
    "import numpy as np\n",
    "\n",
    "resolution = 50\n",
    "field_size = 5.0\n",
    "inputs = [1,1]\n",
    "RFpos = [[0,0],[1,1],[2,2],[3,3],[4,4]]\n",
    "\n",
    "def active_neuro_pos(inputs):\n",
    "    Position = []\n",
    "    for r in range(len(RFpos)):\n",
    "        Coord = []\n",
    "        for c in range(len(inputs)):\n",
    "            input_index = round(inputs[c]*resolution)\n",
    "            shift_amount = field_size - input_index%field_size\n",
    "            local_coord = (shift_amount+RFpos[r][c])%field_size\n",
    "            coord = input_index+local_coord\n",
    "            Coord.append(coord) \n",
    "        Position.append(Coord)\n",
    "    return Position\n",
    "        \n",
    "active_neuro_pos(inputs)  \n",
    "    "
   ]
  },
  {
   "cell_type": "code",
   "execution_count": 23,
   "metadata": {},
   "outputs": [
    {
     "name": "stdout",
     "output_type": "stream",
     "text": [
      "0.1\n",
      "605\n"
     ]
    },
    {
     "data": {
      "text/plain": [
       "[480, 481, 482, 483, 484]"
      ]
     },
     "execution_count": 23,
     "metadata": {},
     "output_type": "execute_result"
    }
   ],
   "source": [
    "# get all the position of L2, map to identical index\n",
    "pos2idx = {}\n",
    "c=0\n",
    "scale = field_size/resolution\n",
    "print scale\n",
    "for i in np.arange(0,1+scale,scale):\n",
    "    for j in np.arange(0,1+scale,scale):\n",
    "        inputs = [i,j]\n",
    "        pos = active_neuro_pos(inputs)\n",
    "        for p in pos:\n",
    "            pos2idx[str(p[0])+\",\"+str(p[1])]=c\n",
    "            c=c+1\n",
    "\n",
    "l2_size = len(pos2idx)\n",
    "print l2_size\n",
    "\n",
    "def get_index(inputs):\n",
    "    pos = active_neuro_pos(inputs)\n",
    "    index = []\n",
    "    for p in pos:\n",
    "        i = pos2idx[str(p[0])+\",\"+str(p[1])]\n",
    "        index.append(i)\n",
    "    return index\n",
    "\n",
    "get_index([0.8,0.8])"
   ]
  },
  {
   "cell_type": "code",
   "execution_count": 24,
   "metadata": {},
   "outputs": [],
   "source": [
    "weights = np.zeros((l2_size,2))\n",
    "neurons = np.zeros((l2_size,1))\n",
    "\n",
    "def forward(index):\n",
    "    #index = get_index(inputs)\n",
    "    x0=0\n",
    "    x1=0\n",
    "    for i in index:\n",
    "        neurons[i]=1\n",
    "        x0+=neurons[i]*weights[i][0]\n",
    "        x1+=neurons[i]*weights[i][1]\n",
    "    pred = np.zeros((1,2))    \n",
    "    pred[0][0]=x0\n",
    "    pred[0][1]=x1\n",
    "    #print pred\n",
    "    return pred\n",
    "\n",
    "def backward(index, target, pred, learning_rate):\n",
    "    loss = target-pred\n",
    "    #print target, pred, loss\n",
    "    for i in index:\n",
    "        for j in range(0,2):\n",
    "            #print weights[i][j], neurons[i], loss[j]\n",
    "            weights[i][j] = weights[i][j]+(learning_rate*neurons[i]*loss[0][j])/field_size\n",
    "\n",
    "# individual MSE          \n",
    "def error(target,pred):\n",
    "    #print target, pred\n",
    "    s = (target[0]-pred[0])**2+(target[1]-pred[1])**2\n",
    "    return s\n",
    "    "
   ]
  },
  {
   "cell_type": "code",
   "execution_count": 25,
   "metadata": {},
   "outputs": [],
   "source": [
    "def train(train_x, train_y, learning_rate, epoch, value_compare):\n",
    "    for e in range(epoch):\n",
    "        for i in range(len(train_x)):\n",
    "            index = get_index(train_x[i])\n",
    "            pred = forward(index)\n",
    "            backward(index, train_y[i], pred, learning_rate)\n",
    "        # calculate MSE \n",
    "        errors = 0.0\n",
    "        for i in range(len(train_x)):\n",
    "            index = get_index(train_x[i])\n",
    "            pred = forward(index)\n",
    "            errors += error(train_y[i],pred[0])\n",
    "        errors/=len(train_x)\n",
    "        Error.append(errors)\n",
    "        print \"epoch : \"+str(e)+\" MSE : \"+str(errors)\n",
    "    if value_compare:   \n",
    "        for i in range(len(train_x)):\n",
    "            index = get_index(train_x[i])\n",
    "            pred = forward(index)\n",
    "            print \"value compare: \"+str(train_y[i][0])+','+str(pred[0][0])+' '+str(train_y[i][1])+','+str(pred[0][1])  \n",
    "        \n",
    "    "
   ]
  },
  {
   "cell_type": "code",
   "execution_count": 26,
   "metadata": {},
   "outputs": [
    {
     "name": "stdout",
     "output_type": "stream",
     "text": [
      "epoch : 0 MSE : 0.057409599499575276\n",
      "epoch : 1 MSE : 0.017562308737301652\n",
      "epoch : 2 MSE : 0.009798706342212448\n",
      "epoch : 3 MSE : 0.006945208647632972\n",
      "epoch : 4 MSE : 0.005545827342526531\n",
      "epoch : 5 MSE : 0.004736680106152373\n",
      "epoch : 6 MSE : 0.004213286572528948\n",
      "epoch : 7 MSE : 0.0038462283915864284\n",
      "epoch : 8 MSE : 0.003573068239088577\n",
      "epoch : 9 MSE : 0.003360619627718604\n",
      "epoch : 10 MSE : 0.003189805634882976\n",
      "epoch : 11 MSE : 0.003048922884888935\n",
      "epoch : 12 MSE : 0.002930388699273122\n",
      "epoch : 13 MSE : 0.0028290593807313667\n",
      "epoch : 14 MSE : 0.002741308412010074\n",
      "epoch : 15 MSE : 0.002664494698477999\n",
      "epoch : 16 MSE : 0.0025966416503665933\n",
      "epoch : 17 MSE : 0.002536235588213558\n",
      "epoch : 18 MSE : 0.0024820945116503417\n",
      "epoch : 19 MSE : 0.002433279925304515\n",
      "epoch : 20 MSE : 0.0023890359084640968\n",
      "epoch : 21 MSE : 0.002348745952092823\n",
      "epoch : 22 MSE : 0.002311901704144438\n",
      "epoch : 23 MSE : 0.002278079895612245\n",
      "epoch : 24 MSE : 0.002246925012863457\n",
      "epoch : 25 MSE : 0.002218136087681656\n",
      "epoch : 26 MSE : 0.0021914564913112938\n",
      "epoch : 27 MSE : 0.002166665955418085\n",
      "epoch : 28 MSE : 0.0021435742677171268\n",
      "epoch : 29 MSE : 0.0021220162432051006\n",
      "epoch : 30 MSE : 0.0021018476782341403\n",
      "epoch : 31 MSE : 0.002082942069694156\n",
      "epoch : 32 MSE : 0.0020651879353607433\n",
      "epoch : 33 MSE : 0.0020484866105855513\n",
      "epoch : 34 MSE : 0.0020327504253310523\n",
      "epoch : 35 MSE : 0.0020179011870457646\n",
      "epoch : 36 MSE : 0.002003868911078012\n",
      "epoch : 37 MSE : 0.0019905907526604548\n",
      "epoch : 38 MSE : 0.0019780101039709366\n",
      "epoch : 39 MSE : 0.00196607582711114\n",
      "epoch : 40 MSE : 0.001954741599567832\n",
      "epoch : 41 MSE : 0.0019439653532163643\n",
      "epoch : 42 MSE : 0.0019337087914795019\n",
      "epoch : 43 MSE : 0.0019239369720792487\n",
      "epoch : 44 MSE : 0.0019146179450772246\n",
      "epoch : 45 MSE : 0.0019057224377132028\n",
      "epoch : 46 MSE : 0.0018972235790156193\n",
      "epoch : 47 MSE : 0.0018890966583453624\n",
      "epoch : 48 MSE : 0.0018813189130012667\n",
      "epoch : 49 MSE : 0.0018738693408065377\n",
      "epoch : 50 MSE : 0.0018667285342448756\n",
      "epoch : 51 MSE : 0.0018598785332503264\n",
      "epoch : 52 MSE : 0.0018533026941977863\n",
      "epoch : 53 MSE : 0.001846985573008975\n",
      "epoch : 54 MSE : 0.001840912820595114\n",
      "epoch : 55 MSE : 0.0018350710891140742\n",
      "epoch : 56 MSE : 0.0018294479477346662\n",
      "epoch : 57 MSE : 0.0018240318067821511\n",
      "epoch : 58 MSE : 0.0018188118492918253\n",
      "epoch : 59 MSE : 0.001813777969127388\n",
      "epoch : 60 MSE : 0.0018089207149309923\n",
      "epoch : 61 MSE : 0.0018042312392658763\n",
      "epoch : 62 MSE : 0.0017997012523929463\n",
      "epoch : 63 MSE : 0.001795322980191669\n",
      "epoch : 64 MSE : 0.0017910891257950294\n",
      "epoch : 65 MSE : 0.001786992834559434\n",
      "epoch : 66 MSE : 0.0017830276620349472\n",
      "epoch : 67 MSE : 0.001779187544639523\n",
      "epoch : 68 MSE : 0.0017754667727745037\n",
      "epoch : 69 MSE : 0.0017718599661476998\n",
      "epoch : 70 MSE : 0.0017683620510960145\n",
      "epoch : 71 MSE : 0.0017649682397218004\n",
      "epoch : 72 MSE : 0.0017616740106768665\n",
      "epoch : 73 MSE : 0.001758475091445326\n",
      "epoch : 74 MSE : 0.0017553674419916968\n",
      "epoch : 75 MSE : 0.001752347239654232\n",
      "epoch : 76 MSE : 0.0017494108651752924\n",
      "epoch : 77 MSE : 0.0017465548897713716\n",
      "epoch : 78 MSE : 0.001743776063154616\n",
      "epoch : 79 MSE : 0.0017410713024262655\n",
      "epoch : 80 MSE : 0.0017384376817698344\n",
      "epoch : 81 MSE : 0.0017358724228786803\n",
      "epoch : 82 MSE : 0.0017333728860584785\n",
      "epoch : 83 MSE : 0.0017309365619506834\n",
      "epoch : 84 MSE : 0.001728561063827766\n",
      "epoch : 85 MSE : 0.001726244120415458\n",
      "epoch : 86 MSE : 0.0017239835692011637\n",
      "epoch : 87 MSE : 0.0017217773501911682\n",
      "epoch : 88 MSE : 0.0017196235000826229\n",
      "epoch : 89 MSE : 0.0017175201468189896\n",
      "epoch : 90 MSE : 0.0017154655045004833\n",
      "epoch : 91 MSE : 0.0017134578686231886\n",
      "epoch : 92 MSE : 0.0017114956116228881\n",
      "epoch : 93 MSE : 0.0017095771787014795\n",
      "epoch : 94 MSE : 0.0017077010839157303\n",
      "epoch : 95 MSE : 0.0017058659065096275\n",
      "epoch : 96 MSE : 0.0017040702874732143\n",
      "epoch : 97 MSE : 0.001702312926312027\n",
      "epoch : 98 MSE : 0.0017005925780125308\n",
      "epoch : 99 MSE : 0.0016989080501901366\n",
      "284.0\n"
     ]
    }
   ],
   "source": [
    "weights = np.zeros((l2_size,2))\n",
    "neurons = np.zeros((l2_size,1))\n",
    "epochs = 100\n",
    "Error = []\n",
    "train(train_X, train_Y, 0.1, epochs, False)\n",
    "print np.sum(neurons)"
   ]
  },
  {
   "cell_type": "code",
   "execution_count": 27,
   "metadata": {},
   "outputs": [],
   "source": [
    "model =  [pos2idx, weights, neurons]\n",
    "import pickle\n",
    "\n",
    "with open('model.pkl', 'w') as f:  \n",
    "    pickle.dump(model, f)\n"
   ]
  },
  {
   "cell_type": "code",
   "execution_count": 28,
   "metadata": {},
   "outputs": [
    {
     "data": {
      "image/png": "[encoded data removed]",
      "text/plain": [
       "<Figure size 432x288 with 1 Axes>"
      ]
     },
     "metadata": {
      "needs_background": "light"
     },
     "output_type": "display_data"
    }
   ],
   "source": [
    "x = range(epochs)\n",
    "y = Error\n",
    "plt.plot(x,y)\n",
    "plt.xlabel('epochs')\n",
    "plt.ylabel('MSE')\n",
    "plt.title('field_size=5, training sample=150')\n",
    "plt.show()\n"
   ]
  },
  {
   "cell_type": "code",
   "execution_count": null,
   "metadata": {},
   "outputs": [],
   "source": []
  }
 ],
 "metadata": {
  "kernelspec": {
   "display_name": "Python 2",
   "language": "python",
   "name": "python2"
  },
  "language_info": {
   "codemirror_mode": {
    "name": "ipython",
    "version": 2
   },
   "file_extension": ".py",
   "mimetype": "text/x-python",
   "name": "python",
   "nbconvert_exporter": "python",
   "pygments_lexer": "ipython2",
   "version": "2.7.16"
  }
 },
 "nbformat": 4,
 "nbformat_minor": 4
}
