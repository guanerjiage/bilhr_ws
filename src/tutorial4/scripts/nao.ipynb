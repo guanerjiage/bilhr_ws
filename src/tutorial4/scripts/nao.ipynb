{
 "cells": [
  {
   "cell_type": "code",
   "execution_count": 56,
   "metadata": {},
   "outputs": [
    {
     "name": "stdout",
     "output_type": "stream",
     "text": [
      "(400, 2)\n",
      "(4, 2)\n",
      "(400, 2)\n",
      "(4, 2)\n",
      "[-0.08669534  0.14169368]\n"
     ]
    }
   ],
   "source": [
    "import numpy as np\n",
    "import matplotlib.pyplot as plt\n",
    "\n",
    "input_size = 2\n",
    "output_size = 2\n",
    "data_path = \"\"\n",
    "Data = np.loadtxt(\"data2.txt\",delimiter=\",\")\n",
    "X_data = Data[:,1:3]\n",
    "Y_data = Data[:,3:]\n",
    "N = X_data.shape[0]\n",
    "val_portion = 0.1;\n",
    "X_train = X_data[:400,:]\n",
    "X_test = X_data[400:,:]\n",
    "Y_train = Y_data[:400,:]\n",
    "Y_test = Y_data[400:,:]\n",
    "print(X_train.shape)\n",
    "print(X_test.shape)\n",
    "print(Y_train.shape)\n",
    "print(Y_test.shape)\n",
    "print(Y_train[46,:])"
   ]
  },
  {
   "cell_type": "code",
   "execution_count": 57,
   "metadata": {},
   "outputs": [],
   "source": [
    "fac_x = 0.99 / 320\n",
    "fac_y = 0.99 / 240\n",
    "train_X = np.zeros((X_train.shape))\n",
    "train_Y = np.zeros(Y_train.shape)\n",
    "test_X = np.zeros((X_test.shape))\n",
    "test_Y = np.zeros(Y_test.shape)\n",
    "\n",
    "train_X[:,0] = np.asfarray(X_train[:, 0]) * fac_x + 0.01\n",
    "train_X[:,1] = np.asfarray(X_train[:, 1]) * fac_y + 0.01\n",
    "test_X[:,0] = np.asfarray(X_test[:, 0]) * fac_x + 0.01\n",
    "test_X[:,1] = np.asfarray(X_test[:, 1]) * fac_y + 0.01\n",
    "\n",
    "train_Y[:,0] = ((np.asfarray(Y_train[:,0]) - (-0.7))/0.7)*1\n",
    "train_Y[:,1] = ((np.asfarray(Y_train[:,1]) - (-0.3))/1)*1\n",
    "test_Y[:,0] = (np.asfarray(Y_test[:,0]) - (-0.7))/0.7\n",
    "test_Y[:,1] = (np.asfarray(Y_test[:,1]) - (-0.3))/1\n",
    "\n",
    "#print train_X"
   ]
  },
  {
   "cell_type": "code",
   "execution_count": 58,
   "metadata": {},
   "outputs": [
    {
     "data": {
      "text/plain": [
       "[[51.0, 51.0], [52.0, 52.0], [50.0, 50.0]]"
      ]
     },
     "execution_count": 58,
     "metadata": {},
     "output_type": "execute_result"
    }
   ],
   "source": [
    "import numpy as np\n",
    "\n",
    "resolution = 50\n",
    "field_size = 3.0\n",
    "inputs = [1,1]\n",
    "RFpos = [[0,0],[1,1],[2,2]]\n",
    "\n",
    "def active_neuro_pos(inputs):\n",
    "    Position = []\n",
    "    for r in range(len(RFpos)):\n",
    "        Coord = []\n",
    "        for c in range(len(inputs)):\n",
    "            input_index = round(inputs[c]*resolution)\n",
    "            shift_amount = field_size - input_index%field_size\n",
    "            local_coord = (shift_amount+RFpos[r][c])%field_size\n",
    "            coord = input_index+local_coord\n",
    "            Coord.append(coord) \n",
    "        Position.append(Coord)\n",
    "    return Position\n",
    "        \n",
    "active_neuro_pos(inputs)  \n",
    "    "
   ]
  },
  {
   "cell_type": "code",
   "execution_count": 59,
   "metadata": {},
   "outputs": [
    {
     "name": "stdout",
     "output_type": "stream",
     "text": [
      "0.06\n",
      "972\n"
     ]
    },
    {
     "data": {
      "text/plain": [
       "[798, 742, 743]"
      ]
     },
     "execution_count": 59,
     "metadata": {},
     "output_type": "execute_result"
    }
   ],
   "source": [
    "# get all the position of L2, map to identical index\n",
    "pos2idx = {}\n",
    "c=0\n",
    "scale = field_size/resolution\n",
    "print scale\n",
    "for i in np.arange(0,1+scale,scale):\n",
    "    for j in np.arange(0,1+scale,scale):\n",
    "        inputs = [i,j]\n",
    "        pos = active_neuro_pos(inputs)\n",
    "        for p in pos:\n",
    "            pos2idx[str(p[0])+\",\"+str(p[1])]=c\n",
    "            c=c+1\n",
    "\n",
    "l2_size = len(pos2idx)\n",
    "print l2_size\n",
    "\n",
    "def get_index(inputs):\n",
    "    pos = active_neuro_pos(inputs)\n",
    "    index = []\n",
    "    for p in pos:\n",
    "        i = pos2idx[str(p[0])+\",\"+str(p[1])]\n",
    "        index.append(i)\n",
    "    return index\n",
    "\n",
    "get_index([0.8,0.8])"
   ]
  },
  {
   "cell_type": "code",
   "execution_count": 60,
   "metadata": {},
   "outputs": [],
   "source": [
    "weights = np.zeros((l2_size,2))\n",
    "neurons = np.zeros((l2_size,1))\n",
    "\n",
    "def forward(index):\n",
    "    #index = get_index(inputs)\n",
    "    x0=0\n",
    "    x1=0\n",
    "    for i in index:\n",
    "        neurons[i]=1\n",
    "        x0+=neurons[i]*weights[i][0]\n",
    "        x1+=neurons[i]*weights[i][1]\n",
    "    pred = np.zeros((1,2))    \n",
    "    pred[0][0]=x0\n",
    "    pred[0][1]=x1\n",
    "    #print pred\n",
    "    return pred\n",
    "\n",
    "def backward(index, target, pred, learning_rate):\n",
    "    loss = target-pred\n",
    "    #print target, pred, loss\n",
    "    for i in index:\n",
    "        for j in range(0,2):\n",
    "            #print weights[i][j], neurons[i], loss[j]\n",
    "            weights[i][j] = weights[i][j]+(learning_rate*neurons[i]*loss[0][j])/field_size\n",
    "\n",
    "# individual MSE          \n",
    "def error(target,pred):\n",
    "    #print target, pred\n",
    "    s = (target[0]-pred[0])**2+(target[1]-pred[1])**2\n",
    "    return s\n",
    "    "
   ]
  },
  {
   "cell_type": "code",
   "execution_count": 61,
   "metadata": {},
   "outputs": [],
   "source": [
    "def train(train_x, train_y, learning_rate, epoch, value_compare):\n",
    "    for e in range(epoch):\n",
    "        for i in range(len(train_x)):\n",
    "            index = get_index(train_x[i])\n",
    "            pred = forward(index)\n",
    "            backward(index, train_y[i], pred, learning_rate)\n",
    "        # calculate MSE \n",
    "        errors = 0.0\n",
    "        for i in range(len(train_x)):\n",
    "            index = get_index(train_x[i])\n",
    "            pred = forward(index)\n",
    "            errors += error(train_y[i],pred[0])\n",
    "        errors/=len(train_x)\n",
    "        Error.append(errors)\n",
    "        print \"epoch : \"+str(e)+\" MSE : \"+str(errors)\n",
    "    if value_compare:   \n",
    "        for i in range(len(train_x)):\n",
    "            index = get_index(train_x[i])\n",
    "            pred = forward(index)\n",
    "            print \"value compare: \"+str(train_y[i][0])+','+str(pred[0][0])+' '+str(train_y[i][1])+','+str(pred[0][1])  \n",
    "        \n",
    "    "
   ]
  },
  {
   "cell_type": "code",
   "execution_count": 63,
   "metadata": {},
   "outputs": [
    {
     "name": "stdout",
     "output_type": "stream",
     "text": [
      "epoch : 0 MSE : 0.25560436649740503\n",
      "epoch : 1 MSE : 0.12273011730071853\n",
      "epoch : 2 MSE : 0.06695839529382186\n",
      "epoch : 3 MSE : 0.040458539896999296\n",
      "epoch : 4 MSE : 0.026608606108439944\n",
      "epoch : 5 MSE : 0.018772210766353367\n",
      "epoch : 6 MSE : 0.014025231266777467\n",
      "epoch : 7 MSE : 0.010974821421376115\n",
      "epoch : 8 MSE : 0.008912301279406665\n",
      "epoch : 9 MSE : 0.007455656617954388\n",
      "epoch : 10 MSE : 0.006388093075490022\n",
      "epoch : 11 MSE : 0.005580763964472819\n",
      "epoch : 12 MSE : 0.004953840006513711\n",
      "epoch : 13 MSE : 0.004455973434846908\n",
      "epoch : 14 MSE : 0.004053004516896434\n",
      "epoch : 15 MSE : 0.0037215102810120603\n",
      "epoch : 16 MSE : 0.0034449887445382786\n",
      "epoch : 17 MSE : 0.0032115286986636204\n",
      "epoch : 18 MSE : 0.0030123443198644922\n",
      "epoch : 19 MSE : 0.0028408284716298195\n",
      "epoch : 20 MSE : 0.0026919257794164246\n",
      "epoch : 21 MSE : 0.0025617079248878775\n",
      "epoch : 22 MSE : 0.002447079861514391\n",
      "epoch : 23 MSE : 0.0023455726532336037\n",
      "epoch : 24 MSE : 0.002255194789941986\n",
      "epoch : 25 MSE : 0.0021743237205623742\n",
      "epoch : 26 MSE : 0.002101625527341246\n",
      "epoch : 27 MSE : 0.0020359946095038213\n",
      "epoch : 28 MSE : 0.0019765078081003095\n",
      "epoch : 29 MSE : 0.001922389099339885\n",
      "epoch : 30 MSE : 0.0018729821233069688\n",
      "epoch : 31 MSE : 0.001827728592636622\n",
      "epoch : 32 MSE : 0.001786151164028237\n",
      "epoch : 33 MSE : 0.0017478397330919645\n",
      "epoch : 34 MSE : 0.0017124403812699162\n",
      "epoch : 35 MSE : 0.0016796463964073307\n",
      "epoch : 36 MSE : 0.0016491909287375533\n",
      "epoch : 37 MSE : 0.0016208409470557356\n",
      "epoch : 38 MSE : 0.00159439223632102\n",
      "epoch : 39 MSE : 0.0015696652352382952\n",
      "epoch : 40 MSE : 0.0015465015557233606\n",
      "epoch : 41 MSE : 0.0015247610592380193\n",
      "epoch : 42 MSE : 0.0015043193904388102\n",
      "epoch : 43 MSE : 0.001485065888328279\n",
      "epoch : 44 MSE : 0.0014669018105284135\n",
      "epoch : 45 MSE : 0.0014497388184409655\n",
      "epoch : 46 MSE : 0.0014334976806831842\n",
      "epoch : 47 MSE : 0.001418107159861909\n",
      "epoch : 48 MSE : 0.001403503053905846\n",
      "epoch : 49 MSE : 0.001389627368142717\n",
      "epoch : 50 MSE : 0.0013764275983365775\n",
      "epoch : 51 MSE : 0.001363856108183805\n",
      "epoch : 52 MSE : 0.0013518695874550248\n",
      "epoch : 53 MSE : 0.0013404285791812649\n",
      "epoch : 54 MSE : 0.0013294970661085898\n",
      "epoch : 55 MSE : 0.0013190421081590215\n",
      "epoch : 56 MSE : 0.00130903352389465\n",
      "epoch : 57 MSE : 0.0012994436100329826\n",
      "epoch : 58 MSE : 0.0012902468939416261\n",
      "epoch : 59 MSE : 0.001281419914779657\n",
      "epoch : 60 MSE : 0.0012729410295757276\n",
      "epoch : 61 MSE : 0.0012647902410587817\n",
      "epoch : 62 MSE : 0.0012569490445025573\n",
      "epoch : 63 MSE : 0.0012494002912230532\n",
      "epoch : 64 MSE : 0.0012421280666896548\n",
      "epoch : 65 MSE : 0.0012351175814849064\n",
      "epoch : 66 MSE : 0.0012283550735822325\n",
      "epoch : 67 MSE : 0.0012218277206115897\n",
      "epoch : 68 MSE : 0.0012155235609552929\n",
      "epoch : 69 MSE : 0.001209431422664259\n",
      "epoch : 70 MSE : 0.001203540859312531\n",
      "epoch : 71 MSE : 0.0011978420920179937\n",
      "epoch : 72 MSE : 0.0011923259569523292\n",
      "epoch : 73 MSE : 0.0011869838577458023\n",
      "epoch : 74 MSE : 0.0011818077222638715\n",
      "epoch : 75 MSE : 0.001176789963294832\n",
      "epoch : 76 MSE : 0.0011719234427418502\n",
      "epoch : 77 MSE : 0.0011672014389598423\n",
      "epoch : 78 MSE : 0.0011626176169189592\n",
      "epoch : 79 MSE : 0.0011581660009123969\n",
      "epoch : 80 MSE : 0.0011538409495579292\n",
      "epoch : 81 MSE : 0.0011496371328701819\n",
      "epoch : 82 MSE : 0.0011455495112050868\n",
      "epoch : 83 MSE : 0.001141573315899353\n",
      "epoch : 84 MSE : 0.0011377040314467057\n",
      "epoch : 85 MSE : 0.0011339373790693044\n",
      "epoch : 86 MSE : 0.001130269301557491\n",
      "epoch : 87 MSE : 0.0011266959492640765\n",
      "epoch : 88 MSE : 0.001123213667150921\n",
      "epoch : 89 MSE : 0.0011198189827958708\n",
      "epoch : 90 MSE : 0.0011165085952771663\n",
      "epoch : 91 MSE : 0.0011132793648606337\n",
      "epoch : 92 MSE : 0.001110128303422165\n",
      "epoch : 93 MSE : 0.0011070525655444586\n",
      "epoch : 94 MSE : 0.0011040494402327797\n",
      "epoch : 95 MSE : 0.0011011163431996214\n",
      "epoch : 96 MSE : 0.0010982508096728483\n",
      "epoch : 97 MSE : 0.0010954504876859587\n",
      "epoch : 98 MSE : 0.0010927131318129112\n",
      "epoch : 99 MSE : 0.0010900365973132607\n",
      "345.0\n"
     ]
    }
   ],
   "source": [
    "weights = np.zeros((l2_size,2))\n",
    "neurons = np.zeros((l2_size,1))\n",
    "epochs = 100\n",
    "Error = []\n",
    "train(train_X, train_Y, 0.1, epochs, False)\n",
    "print np.sum(neurons)"
   ]
  },
  {
   "cell_type": "code",
   "execution_count": 64,
   "metadata": {},
   "outputs": [],
   "source": [
    "model =  [pos2idx, weights, neurons]\n",
    "import pickle\n",
    "\n",
    "with open('model.pkl', 'w') as f:  \n",
    "    pickle.dump(model, f)\n"
   ]
  },
  {
   "cell_type": "code",
   "execution_count": 65,
   "metadata": {},
   "outputs": [
    {
     "data": {
      "image/png": "[encoded data removed]",
      "text/plain": [
       "<Figure size 432x288 with 1 Axes>"
      ]
     },
     "metadata": {
      "needs_background": "light"
     },
     "output_type": "display_data"
    }
   ],
   "source": [
    "x = range(epochs)\n",
    "y = Error\n",
    "plt.plot(x,y)\n",
    "plt.xlabel('epochs')\n",
    "plt.ylabel('MSE')\n",
    "plt.title('field_size=5, training sample=150')\n",
    "plt.show()\n"
   ]
  },
  {
   "cell_type": "code",
   "execution_count": null,
   "metadata": {},
   "outputs": [],
   "source": []
  }
 ],
 "metadata": {
  "kernelspec": {
   "display_name": "Python 2",
   "language": "python",
   "name": "python2"
  },
  "language_info": {
   "codemirror_mode": {
    "name": "ipython",
    "version": 2
   },
   "file_extension": ".py",
   "mimetype": "text/x-python",
   "name": "python",
   "nbconvert_exporter": "python",
   "pygments_lexer": "ipython2",
   "version": "2.7.16"
  }
 },
 "nbformat": 4,
 "nbformat_minor": 4
}
